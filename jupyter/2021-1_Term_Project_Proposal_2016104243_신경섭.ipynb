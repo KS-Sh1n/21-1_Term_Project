{
 "cells": [
  {
   "cell_type": "markdown",
   "metadata": {},
   "source": [
    "# <center> 2021-1 웹파이썬프로그래밍 텀프로젝트 Proposal </center>"
   ]
  },
  {
   "cell_type": "markdown",
   "metadata": {},
   "source": [
    "<h3 align = \"right\">2016104243 경제학과 신경섭</h3>"
   ]
  },
  {
   "cell_type": "markdown",
   "metadata": {},
   "source": [
    "***"
   ]
  },
  {
   "cell_type": "markdown",
   "metadata": {},
   "source": [
    "## <center> 목차 </center>\n",
    "### <center> 1. 주제 설명 </center>\n",
    "\n",
    "### <center> 2. 주제 선정 이유 </center>\n",
    "\n",
    "### <center> 3. 주제 개발 방법 </center>\n",
    "\n",
    "### <center> 4. 현재 진행 상황 </center>\n",
    "\n",
    "### <center> 5. 예정 진행 상황 </center>"
   ]
  },
  {
   "cell_type": "markdown",
   "metadata": {},
   "source": [
    "***"
   ]
  },
  {
   "cell_type": "markdown",
   "metadata": {},
   "source": [
    "## <center> 1. 주제 설명 </center>"
   ]
  },
  {
   "cell_type": "markdown",
   "metadata": {},
   "source": [
    "처음에는 텀프로젝트로 파이썬을 이용한 웹 크롤링을 기획했습니다. 평소에 하고 싶었던 주제였기도 하고 지금 실력에 만들기 알맞은 프로그램이라고 생각했기 때문입니다. 그리고 크롤링을 통해 긁어온 데이터를 실시간 텔레그램 알림으로 바로 확인할 수 있도록 만들려고 합니다. <br><br>그런데 텔레그램을 통해서는 실시간 데이터 조회만 가능합니다. 여러 사이트에서 데이터를 긁어오다 보면 수많은 데이터가 쌓일 것이고 그것을 한 곳에 모아 저장해 두는 아카이브 또한 만들고 싶었습니다. 그래서 DB를 활용해서 크롤링 데이터를 저장하고 이를 웹사이트를 통해 게시하기로 했습니다. 웹사이트에 데이터를 게시함으로써 지금까지 긁어온 사이트 데이터들을 아이폰, 아이패드, 노트북 등을 통해 한 눈으로 볼 수 있을 것이라 기대합니다."
   ]
  },
  {
   "cell_type": "markdown",
   "metadata": {},
   "source": [
    "___"
   ]
  },
  {
   "cell_type": "markdown",
   "metadata": {},
   "source": [
    "## <center> 2. 주제 선정 이유 </center>"
   ]
  },
  {
   "cell_type": "markdown",
   "metadata": {},
   "source": [
    "<b>1. 학교 공지를 제때 확인하고 싶었습니다.</b><br> 학교를 다니면서 홈페이지 공지사항에 올라오는 중요한 정보를 필요한 때에 확인하지 못하는 경우가 많았습니다. 그리고 중요한 정보가 있는지 공지를 확인하고자 할 때마다 학교 홈페이지에 들어가야 한다는 것이 불편했습니다. 그래서 학교 홈페이지에 들어가지 않으면서 실시간으로 공지를 확인하고 싶었고, 이를 위해서 크롤링 프로그램을 생각했습니다."
   ]
  },
  {
   "cell_type": "markdown",
   "metadata": {},
   "source": [
    "<b>2. 취업에 필요한 정보를 빠르게 찾고 싶었습니다.</b><br> 학년이 올라가면서 본격적인 취업 준비를 시작해야 했습니다. 스펙을 쌓기 위한 공모전, 대외활동, 인턴 등의 정보를 수시로 찾아야 했습니다. 그런데 이러한 정보가 여러 사이트에 흩어져 있어서 일일이 찾아보기가 쉽지 않았습니다. 크롤링을 통해 취업에 필요한 모든 정보를 한 페이지에 모아서 확인하고, 텔레그램 알림을 통해 어떤 공모전, 대외활동, 인턴이 모집 중인지 실시간으로 확인할 수 있을 것으로 생각했습니다."
   ]
  },
  {
   "cell_type": "markdown",
   "metadata": {},
   "source": [
    "<b>3. 이 수업 뿐만 아니라 이후에도 계속 사용할 수 있는 프로그램을 만들고 싶었습니다.</b><br> 프로그램을 기획하면서 경희대학교 공지 사이트와 채용, 공모전 사이트를 크롤링할 사이트로 잡았습니다. 그리고 이 수업에서 만들게 될 크롤링 프로그램이 여러 다른 용도로 사용될 수 있다고 생각했습니다. 예를 들어, 같은 프로그램으로 구글 트렌드 API를 긁어와 이를 시기별로, 분야별로 한 눈에 볼 수 있도록 정리하면 트렌드 분석에 용이할 것입니다. 이처럼 크롤링 프로그램을 응용해 저만의 데이터를 축적하는데 사용할 수 있다고 생각했습니다."
   ]
  },
  {
   "cell_type": "markdown",
   "metadata": {},
   "source": [
    "<b>4. 웹 프로그래밍을 조금 더 심화하게 배우고 싶었습니다.</b><br> 웹파이썬프로그래밍 수업은 파이썬을 주로 다루고 웹 부분의 깊이는 파이썬 쪽 보다는 얕었습니다. 웹 분야도 파이썬 만큼 중요하기 때문에 웹 부분을 조금 더 배우고 싶었습니다. 웹 프로그래밍을 직접 하면서 배우는 것이 좋을 것 같다고 생각해서 크롤링 데이터를 웹에 게시하는 프로그램을 기획했습니다."
   ]
  },
  {
   "cell_type": "markdown",
   "metadata": {},
   "source": [
    "___"
   ]
  },
  {
   "cell_type": "markdown",
   "metadata": {},
   "source": [
    "## <center> 3. 주제 개발 방법 </center>"
   ]
  },
  {
   "cell_type": "markdown",
   "metadata": {},
   "source": [
    "### <center> 1. 파이썬 </center>"
   ]
  },
  {
   "cell_type": "markdown",
   "metadata": {},
   "source": [
    "강의가 웹파이썬프로그래밍인 만큼 파이썬을 웹 서버이자 주 언어로 사용하고자 합니다. 우선 파이썬으로는 다음과 같은 3가지를 구현할 예정입니다.<br><br>\n",
    "\n",
    "<b>1. 서버로서 주기적인 웹사이트 크롤링</b><br>\n",
    "<b>2. 크롤링 후 DB에 데이터 업데이트</b><br>\n",
    "<b>3. 텔레그램으로 크롤링 데이터 알림 보내기</b><br><br>\n",
    "\n",
    "크롤링 주기는 30분으로 생각하고 있으며, 시간을 재기 위해 ``time`` 모듈을 이용할 예정입니다. <br>\n",
    "크롤링을 위해서 ``request`` 모듈로 사이트의 HTML 데이터를 가지고 오고 ``beautlfulsoup`` 모듈로 HTML 데이터에서 필요한 것만 추릴 예정입니다. 또한 크롤링 당시 시간을 기록하기 위해 ``datetime`` 모듈을 사용할 것입니다.<br>\n",
    "DB 데이터 업데이트를 위해  ``mysql.connector`` 모듈을 통해 DB 서버와 연결할 것입니다.<br>\n",
    "마지막으로 크롤링 데이터를 텔레그램 알림으로 보내기 위해 ``telegram`` 모듈을 사용할 예정입니다."
   ]
  },
  {
   "cell_type": "markdown",
   "metadata": {},
   "source": [
    "### <center> 2. DB </center>"
   ]
  },
  {
   "cell_type": "markdown",
   "metadata": {},
   "source": [
    "DB 소프트웨어로는 MySQL을 사용할 예정입니다. 파이썬을 최대한 활용하기 위해 DB에서는 데이터베이스만 만들고, 각 사이트에 대응하는 테이블 제작, 수정 및 삭제는 전부 파이썬에서 수행할 예정입니다."
   ]
  },
  {
   "cell_type": "markdown",
   "metadata": {},
   "source": [
    "### <center> 3. 웹사이트 </center>"
   ]
  },
  {
   "cell_type": "markdown",
   "metadata": {},
   "source": [
    "HTML을 이용해 웹사이트를 만들 예정입니다. 또한, HTML 웹사이트를 인터넷으로 접근하기 위해 적절한 사이트에서 도메인을 구매할 예정입니다. 현재 구상 중인 웹사이트의 개략적인 모습은 다음과 같습니다."
   ]
  },
  {
   "cell_type": "markdown",
   "metadata": {},
   "source": [
    "![title](Site_Blueprint.png)"
   ]
  },
  {
   "cell_type": "markdown",
   "metadata": {},
   "source": [
    "이 웹사이트와 DB의 데이터를 연걸하는 부분은 아직 사용할 언어를 확정하지는 않았습니다. PHP가 유력 후보이기는 합니다. 파이썬 자체를 웹 서버로 사용하는 것도 고려 중입니다."
   ]
  }
 ],
 "metadata": {
  "kernelspec": {
   "display_name": "Python 3",
   "language": "python",
   "name": "python3"
  },
  "language_info": {
   "codemirror_mode": {
    "name": "ipython",
    "version": 3
   },
   "file_extension": ".py",
   "mimetype": "text/x-python",
   "name": "python",
   "nbconvert_exporter": "python",
   "pygments_lexer": "ipython3",
   "version": "3.7.6"
  }
 },
 "nbformat": 4,
 "nbformat_minor": 4
}
